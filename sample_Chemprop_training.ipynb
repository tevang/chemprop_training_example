{
 "cells": [
  {
   "cell_type": "markdown",
   "metadata": {},
   "source": [
    "# Minimal Chemprop Example in Jupyter\n",
    "\n",
    "This notebook shows how to:\n",
    "1. **Load** RDKit molecules, features, and labels from a pickle file.\n",
    "2. **Create** `MoleculeDatapoint` objects via `create_data_points`.\n",
    "3. **Build** a Chemprop MPNN model.\n",
    "4. **Train** the model (no validation set, purely training).\n",
    "\n",
    "We'll also **print** the contents of `mols`, `features`, and `labels` to demonstrate the data being passed in.\n"
   ],
   "id": "b0beb13c8552d29c"
  },
  {
   "cell_type": "code",
   "metadata": {
    "executionInfo": {},
    "ExecuteTime": {
     "end_time": "2025-01-07T21:05:09.120202075Z",
     "start_time": "2025-01-07T21:05:09.079002053Z"
    }
   },
   "source": [
    "import pickle\n",
    "\n",
    "import numpy as np\n",
    "from chemprop import data, models, nn\n",
    "from chemprop.featurizers import SimpleMoleculeMolGraphFeaturizer\n",
    "from lightning.pytorch import Trainer\n",
    "from lightning.pytorch.callbacks import ModelCheckpoint\n",
    "\n",
    "################################\n",
    "# 1) Minimal Helper Function\n",
    "################################\n",
    "def create_data_points(mols, labels, features, how='features'):\n",
    "    \"\"\"\n",
    "    Create a list of chemprop.data.MoleculeDatapoint objects, each holding:\n",
    "      - an RDKit Mol\n",
    "      - a label y\n",
    "      - optional features (V_f or V_d) shaped as (num_atoms, -1).\n",
    "    \"\"\"\n",
    "    data_points = []\n",
    "    for mol, y, feat in zip(mols, labels, features):\n",
    "        num_atoms = mol.GetNumAtoms()\n",
    "        if feat.shape[0] != num_atoms:\n",
    "            raise ValueError(\n",
    "                f\"FATAL ERROR: Features array has length {feat.shape[0]}, \"\n",
    "                f\"but the molecule has {num_atoms} atoms.\"\n",
    "            )\n",
    "\n",
    "        feat_reshaped = feat.reshape(num_atoms, -1)\n",
    "\n",
    "        if how == 'no extra':\n",
    "            dp = data.MoleculeDatapoint(mol=mol, y=np.array([y]))\n",
    "        elif how == 'features':\n",
    "            dp = data.MoleculeDatapoint(mol=mol, y=np.array([y]), V_f=feat_reshaped)\n",
    "        elif how == 'descriptors':\n",
    "            dp = data.MoleculeDatapoint(mol=mol, y=np.array([y]), V_d=feat_reshaped)\n",
    "        else:\n",
    "            raise ValueError(f\"Unknown how={how}. Choose from ['no extra','features','descriptors'].\")\n",
    "\n",
    "        data_points.append(dp)\n",
    "\n",
    "    return data_points\n",
    "\n",
    "################################\n",
    "# 2) Build dataset and dataloader\n",
    "################################\n",
    "def build_dataset_and_dataloader(moldata, batch_size=1):\n",
    "    \"\"\"\n",
    "    Builds a MoleculeDataset from the data points and returns a dataloader.\n",
    "    Dynamically detects extra_atom_fdim from the first data point's V_f (if any).\n",
    "    \"\"\"\n",
    "\n",
    "    featurizer = SimpleMoleculeMolGraphFeaturizer(extra_atom_fdim=moldata[0].V_f.shape[1] if moldata[0].V_f is not None else 0)\n",
    "    dataset = data.MoleculeDataset(moldata, featurizer=featurizer)\n",
    "    loader = data.build_dataloader(dataset, batch_size=batch_size, num_workers=0)\n",
    "    return dataset, loader\n",
    "\n",
    "################################\n",
    "# 3) Build a simple Chemprop model\n",
    "################################\n",
    "def build_model(dataset):\n",
    "    mp = nn.BondMessagePassing(d_v=dataset.featurizer.atom_fdim, d_vd=dataset.d_vd)\n",
    "    agg = nn.NormAggregation()\n",
    "    ffn = nn.BinaryClassificationFFN(input_dim=mp.output_dim)\n",
    "    model = models.MPNN(\n",
    "        message_passing=mp,\n",
    "        agg=agg,\n",
    "        predictor=ffn,\n",
    "        metrics=[nn.metrics.BinaryF1Score()]\n",
    "    )\n",
    "    return model\n",
    "\n",
    "################################\n",
    "# 4) Minimal training loop\n",
    "################################\n",
    "def run_training(model, loader, work_dir=\"/tmp\", max_epochs=3):\n",
    "    checkpointing = ModelCheckpoint(\n",
    "        dirpath=f\"{work_dir}/Chemprop_example\",\n",
    "        filename=\"best\",\n",
    "        monitor=\"val_loss\",  # no val_loss if no validation data\n",
    "        mode=\"min\",\n",
    "        save_last=True\n",
    "    )\n",
    "    trainer = Trainer(\n",
    "        logger=False,\n",
    "        enable_checkpointing=True,\n",
    "        enable_progress_bar=True,\n",
    "        accelerator=\"auto\",\n",
    "        devices=1,\n",
    "        max_epochs=max_epochs,\n",
    "        callbacks=[checkpointing]\n",
    "    )\n",
    "    # Fit with no validation\n",
    "    trainer.fit(model, loader)\n",
    "    return trainer\n",
    "\n",
    "################################\n",
    "# 5) Minimal Main Logic\n",
    "################################\n",
    "def run_minimal_chemprop_example(pickle_file, how):\n",
    "    # 1) Load the data from a pickle\n",
    "    # Expecting each entry to be (mol, feature, label)\n",
    "    with open(pickle_file, \"rb\") as f:\n",
    "        all_data = pickle.load(f)\n",
    "\n",
    "    # 2) Extract separate lists\n",
    "    mols = [entry[0] for entry in all_data]\n",
    "    features = [entry[1] for entry in all_data]\n",
    "    labels = [entry[2] for entry in all_data]\n",
    "\n",
    "    # Print them\n",
    "    print(\"Mols:\", mols)\n",
    "    print(\"Number of atoms per mol:\", [mol.GetNumAtoms() for mol in mols])\n",
    "    print(\"\\nFeatures:\", features)\n",
    "    print(\"\\nLabels:\", labels)\n",
    "\n",
    "    # 3) Create data points\n",
    "    datapoints = create_data_points(mols, labels, features, how=how)\n",
    "\n",
    "    # 4) Build dataset + loader\n",
    "    dataset, loader = build_dataset_and_dataloader(datapoints, batch_size=2)\n",
    "\n",
    "    # 5) Build model\n",
    "    model = build_model(dataset)\n",
    "\n",
    "    # 6) Train\n",
    "    trainer = run_training(model, loader, work_dir=\"/tmp\", max_epochs=3)\n",
    "    print(\"Finished minimal Chemprop training example.\")"
   ],
   "id": "f07040cb1262407f",
   "outputs": [],
   "execution_count": 63
  },
  {
   "cell_type": "code",
   "outputs": [
    {
     "name": "stdout",
     "output_type": "stream",
     "text": [
      "Mols: [<rdkit.Chem.rdchem.Mol object at 0xb7811bf6610>, <rdkit.Chem.rdchem.Mol object at 0xb7811bf72e0>]\n",
      "Number of atoms per mol: [11, 12]\n",
      "\n",
      "Features: [array([0, 0, 1, 1, 0, 0, 0, 0, 0, 0, 0]), array([0, 0, 0, 0, 0, 0, 0, 0, 0, 0, 0, 0])]\n",
      "\n",
      "Labels: [1, 0]\n"
     ]
    },
    {
     "name": "stderr",
     "output_type": "stream",
     "text": [
      "GPU available: False, used: False\n",
      "TPU available: False, using: 0 TPU cores\n",
      "IPU available: False, using: 0 IPUs\n",
      "HPU available: False, using: 0 HPUs\n",
      "Loading `train_dataloader` to estimate number of stepping batches.\n",
      "\n",
      "  | Name            | Type                    | Params\n",
      "------------------------------------------------------------\n",
      "0 | message_passing | BondMessagePassing      | 227 K \n",
      "1 | agg             | NormAggregation         | 0     \n",
      "2 | bn              | Identity                | 0     \n",
      "3 | predictor       | BinaryClassificationFFN | 90.6 K\n",
      "4 | X_d_transform   | Identity                | 0     \n",
      "5 | metrics         | ModuleList              | 0     \n",
      "------------------------------------------------------------\n",
      "318 K     Trainable params\n",
      "0         Non-trainable params\n",
      "318 K     Total params\n",
      "1.273     Total estimated model params size (MB)\n"
     ]
    },
    {
     "data": {
      "text/plain": "Training: 0it [00:00, ?it/s]",
      "application/vnd.jupyter.widget-view+json": {
       "version_major": 2,
       "version_minor": 0,
       "model_id": "0049a0cbe4d2447fa0a742391e47d682"
      }
     },
     "metadata": {},
     "output_type": "display_data"
    },
    {
     "name": "stderr",
     "output_type": "stream",
     "text": [
      "`Trainer.fit` stopped: `max_epochs=3` reached.\n"
     ]
    },
    {
     "name": "stdout",
     "output_type": "stream",
     "text": [
      "Finished minimal Chemprop training example.\n"
     ]
    }
   ],
   "source": [
    "# 7) Actually run the code\n",
    "# Provide the path to your minimal sample input pickle file.\n",
    "pickle_file = \"sample_Chemprop_input.pkl\"\n",
    "run_minimal_chemprop_example(pickle_file, how=\"no extra\")"
   ],
   "metadata": {
    "collapsed": false,
    "ExecuteTime": {
     "end_time": "2025-01-07T21:05:09.203743047Z",
     "start_time": "2025-01-07T21:05:09.120067174Z"
    }
   },
   "id": "5902d1444bcdb4c9",
   "execution_count": 64
  }
 ],
 "metadata": {
  "kernelspec": {
   "display_name": "Python 3.11 (ipykernel)",
   "language": "python",
   "name": "python3"
  },
  "language_info": {
   "name": "python",
   "version": "3.11"
  }
 },
 "nbformat": 4,
 "nbformat_minor": 5
}
